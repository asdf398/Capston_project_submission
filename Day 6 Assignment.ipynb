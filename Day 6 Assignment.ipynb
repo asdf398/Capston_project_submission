{
 "cells": [
  {
   "cell_type": "markdown",
   "metadata": {},
   "source": [
    "# NAME : CHINMAY HOLKAR\n",
    "# EMAIL-ID : chinmayholkar1998@gmail.com"
   ]
  },
  {
   "cell_type": "code",
   "execution_count": 1,
   "metadata": {},
   "outputs": [
    {
     "name": "stdout",
     "output_type": "stream",
     "text": [
      "The following is the error :  not writable\n"
     ]
    }
   ],
   "source": [
    "#Q1 \n",
    "try:\n",
    "        file = open(\"FCS.txt\",\"r\")\n",
    "        file.write(\"Work Hard\")\n",
    "except  Exception as e:\n",
    "        print(\"The following is the error : \", e)\n",
    "finally:\n",
    "        file.close()"
   ]
  },
  {
   "cell_type": "code",
   "execution_count": 2,
   "metadata": {},
   "outputs": [],
   "source": [
    "# following is the question 2"
   ]
  },
  {
   "cell_type": "code",
   "execution_count": 3,
   "metadata": {},
   "outputs": [
    {
     "name": "stdout",
     "output_type": "stream",
     "text": [
      "Overwriting prime_or_not.py\n"
     ]
    }
   ],
   "source": [
    "%%writefile prime_or_not.py\n",
    "def prime_or_not(x):\n",
    "    for i in range(2,x):\n",
    "        if x%i == 0:\n",
    "            print(\"The number is not prime\")\n",
    "            return\n",
    "    print(\"The number is prime\")"
   ]
  },
  {
   "cell_type": "code",
   "execution_count": 4,
   "metadata": {},
   "outputs": [
    {
     "name": "stdout",
     "output_type": "stream",
     "text": [
      "************* Module prime_or_not\n",
      "prime_or_not.py:2:20: C0326: Exactly one space required after comma\n",
      "    for i in range(2,x):\n",
      "\n",
      "                    ^ (bad-whitespace)\n",
      "prime_or_not.py:1:0: C0111: Missing module docstring (missing-docstring)\n",
      "prime_or_not.py:1:0: C0103: Argument name \"x\" doesn't conform to snake_case naming style (invalid-name)\n",
      "prime_or_not.py:1:0: C0111: Missing function docstring (missing-docstring)\n",
      "\n",
      "------------------------------------------------------------------\n",
      "\n",
      "Your code has been rated at 3.33/10 (previous run: 3.33/10, +0.00)\n",
      "\n",
      "\n",
      "\n"
     ]
    }
   ],
   "source": [
    "! pylint prime_or_not.py"
   ]
  },
  {
   "cell_type": "code",
   "execution_count": 5,
   "metadata": {},
   "outputs": [
    {
     "name": "stdout",
     "output_type": "stream",
     "text": [
      "Overwriting prime_number.py\n"
     ]
    }
   ],
   "source": [
    "%%writefile prime_number.py\n",
    "''' A program for testing pylint'''\n",
    "def prime(number):\n",
    "    '''We are checking prime number here'''\n",
    "    for i in range(2, number):\n",
    "        if number%i == 0:\n",
    "            print(\"The number is not prime\")\n",
    "            return 0\n",
    "    print(\"The number is prime\")"
   ]
  },
  {
   "cell_type": "code",
   "execution_count": 6,
   "metadata": {},
   "outputs": [
    {
     "name": "stdout",
     "output_type": "stream",
     "text": [
      "************* Module prime_number\n",
      "prime_number.py:2:0: R1710: Either all return statements in a function should return an expression, or none of them should. (inconsistent-return-statements)\n",
      "\n",
      "------------------------------------------------------------------\n",
      "\n",
      "Your code has been rated at 8.33/10 (previous run: 8.33/10, +0.00)\n",
      "\n",
      "\n",
      "\n"
     ]
    }
   ],
   "source": [
    "! pylint prime_number.py"
   ]
  },
  {
   "cell_type": "code",
   "execution_count": 7,
   "metadata": {},
   "outputs": [
    {
     "name": "stdout",
     "output_type": "stream",
     "text": [
      "Overwriting unittest_of_prime.py\n"
     ]
    }
   ],
   "source": [
    "%%writefile unittest_of_prime.py\n",
    "import unittest \n",
    "import prime_number\n",
    "\n",
    "class TestPrime(unittest.TestCase):\n",
    "    def test_prime(self):\n",
    "            number = 57\n",
    "            result = prime_number.prime(number)\n",
    "            self.assertEqual(result,0)\n",
    "if __name__ == '__main__':\n",
    "    unittest.main()"
   ]
  },
  {
   "cell_type": "code",
   "execution_count": 8,
   "metadata": {},
   "outputs": [
    {
     "name": "stdout",
     "output_type": "stream",
     "text": [
      "The number is not prime\n"
     ]
    },
    {
     "name": "stderr",
     "output_type": "stream",
     "text": [
      ".\n",
      "----------------------------------------------------------------------\n",
      "Ran 1 test in 0.000s\n",
      "\n",
      "OK\n"
     ]
    }
   ],
   "source": [
    "! python unittest_of_prime.py"
   ]
  }
 ],
 "metadata": {
  "kernelspec": {
   "display_name": "Python 3",
   "language": "python",
   "name": "python3"
  },
  "language_info": {
   "codemirror_mode": {
    "name": "ipython",
    "version": 3
   },
   "file_extension": ".py",
   "mimetype": "text/x-python",
   "name": "python",
   "nbconvert_exporter": "python",
   "pygments_lexer": "ipython3",
   "version": "3.7.1"
  }
 },
 "nbformat": 4,
 "nbformat_minor": 2
}
