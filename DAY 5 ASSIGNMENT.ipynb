{
 "cells": [
  {
   "cell_type": "markdown",
   "metadata": {},
   "source": [
    "# NAME : CHINMAY HOLKAR\n",
    "# EMAIL-ID : chinmayholkar1998@gmail.com"
   ]
  },
  {
   "cell_type": "code",
   "execution_count": 2,
   "metadata": {},
   "outputs": [],
   "source": [
    "# Q_1\n",
    "class bank_account():\n",
    "    def __init__(self,owner,balance):\n",
    "             self.owner = owner\n",
    "             self.balance = int(balance)\n",
    "    def deposit(self,depo):\n",
    "             self.balance = self.balance + int(depo)\n",
    "             print(\"Your balance is : \", self.balance)\n",
    "    def withdraw(self,withd):\n",
    "            if int(withd) <= self.balance:\n",
    "                self.balance = self.balance - int(withd)\n",
    "                print(\"Your balance is : \", self.balance)\n",
    "                print(\"Amount withdrawn : \", withd)\n",
    "                return withd\n",
    "            else:\n",
    "                print(\"You don't have enough balance\")\n",
    "     "
   ]
  },
  {
   "cell_type": "code",
   "execution_count": 3,
   "metadata": {},
   "outputs": [
    {
     "data": {
      "text/plain": [
       "<__main__.bank_account at 0x1920890ea90>"
      ]
     },
     "execution_count": 3,
     "metadata": {},
     "output_type": "execute_result"
    }
   ],
   "source": [
    "bank_account_1 = bank_account(\"Raja_Raviverma\",\"100000\")\n",
    "bank_account_1"
   ]
  },
  {
   "cell_type": "code",
   "execution_count": 5,
   "metadata": {},
   "outputs": [
    {
     "name": "stdout",
     "output_type": "stream",
     "text": [
      "Your balance is :  110000\n"
     ]
    }
   ],
   "source": [
    "bank_account_1.deposit(\"10000\")\n"
   ]
  },
  {
   "cell_type": "code",
   "execution_count": 6,
   "metadata": {},
   "outputs": [
    {
     "name": "stdout",
     "output_type": "stream",
     "text": [
      "Your balance is :  0\n",
      "Amount withdrawn :  110000\n"
     ]
    },
    {
     "data": {
      "text/plain": [
       "'110000'"
      ]
     },
     "execution_count": 6,
     "metadata": {},
     "output_type": "execute_result"
    }
   ],
   "source": [
    "bank_account_1.withdraw(\"110000\")\n"
   ]
  },
  {
   "cell_type": "code",
   "execution_count": 7,
   "metadata": {},
   "outputs": [
    {
     "name": "stdout",
     "output_type": "stream",
     "text": [
      "You don't have enough balance\n"
     ]
    }
   ],
   "source": [
    "bank_account_1.withdraw(\"10000\")"
   ]
  },
  {
   "cell_type": "code",
   "execution_count": 8,
   "metadata": {},
   "outputs": [
    {
     "name": "stdout",
     "output_type": "stream",
     "text": [
      "Your balance is :  100000\n"
     ]
    }
   ],
   "source": [
    "bank_account_1.deposit(\"100000\")"
   ]
  },
  {
   "cell_type": "code",
   "execution_count": 9,
   "metadata": {},
   "outputs": [
    {
     "name": "stdout",
     "output_type": "stream",
     "text": [
      "Your balance is :  90000\n",
      "Amount withdrawn :  10000\n"
     ]
    },
    {
     "data": {
      "text/plain": [
       "'10000'"
      ]
     },
     "execution_count": 9,
     "metadata": {},
     "output_type": "execute_result"
    }
   ],
   "source": [
    "bank_account_1.withdraw(\"10000\")"
   ]
  },
  {
   "cell_type": "code",
   "execution_count": 10,
   "metadata": {},
   "outputs": [],
   "source": [
    "# Q_2\n",
    "import math\n",
    "class Cone():\n",
    "        def __init__(self,radius,height):\n",
    "                    self.radius = radius\n",
    "                    self.height = height\n",
    "        def volume(self):\n",
    "                    r_1 = int(self.radius)\n",
    "                    h   = int(self.height)\n",
    "                    vol = (22/7)*(r_1*r_1)*(h/3)\n",
    "                    print(\"The Volume is :\",vol)\n",
    "        def surface_area(self):\n",
    "                    r_1 = int(self.radius)\n",
    "                    h = int(self.height)\n",
    "                    base = (22/7)*(r_1*r_1)\n",
    "                    m = (r_1*r_1) + (h*h)\n",
    "                    side = (22/7)*(r_1)*(math.sqrt(m))\n",
    "                    area = base + side\n",
    "                    print(\"The total surface area is : \",area)"
   ]
  },
  {
   "cell_type": "code",
   "execution_count": 11,
   "metadata": {},
   "outputs": [
    {
     "data": {
      "text/plain": [
       "<__main__.Cone at 0x19208933710>"
      ]
     },
     "execution_count": 11,
     "metadata": {},
     "output_type": "execute_result"
    }
   ],
   "source": [
    "cone_1 = Cone(\"13\",\"34\")\n",
    "cone_1"
   ]
  },
  {
   "cell_type": "code",
   "execution_count": 12,
   "metadata": {},
   "outputs": [
    {
     "name": "stdout",
     "output_type": "stream",
     "text": [
      "The Volume is : 6019.619047619048\n"
     ]
    }
   ],
   "source": [
    "cone_1.volume()"
   ]
  },
  {
   "cell_type": "code",
   "execution_count": 13,
   "metadata": {},
   "outputs": [
    {
     "name": "stdout",
     "output_type": "stream",
     "text": [
      "The total surface area is :  2018.36530595302\n"
     ]
    }
   ],
   "source": [
    "cone_1.surface_area()"
   ]
  }
 ],
 "metadata": {
  "kernelspec": {
   "display_name": "Python 3",
   "language": "python",
   "name": "python3"
  },
  "language_info": {
   "codemirror_mode": {
    "name": "ipython",
    "version": 3
   },
   "file_extension": ".py",
   "mimetype": "text/x-python",
   "name": "python",
   "nbconvert_exporter": "python",
   "pygments_lexer": "ipython3",
   "version": "3.7.1"
  }
 },
 "nbformat": 4,
 "nbformat_minor": 2
}
