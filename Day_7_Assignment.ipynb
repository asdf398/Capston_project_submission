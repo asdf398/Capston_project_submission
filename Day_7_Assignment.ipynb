{
 "cells": [
  {
   "cell_type": "markdown",
   "metadata": {},
   "source": [
    "# NAME : CHINMAY HOLKAR\n",
    "# EMAIL : chinmayholkar1998@gmail.com"
   ]
  },
  {
   "cell_type": "code",
   "execution_count": 1,
   "metadata": {},
   "outputs": [],
   "source": [
    "#Q1 Decorators\n",
    "def get_input(some_func):\n",
    "    def range_func():\n",
    "        a = int(input(\"Please enter the start of the range: \"))\n",
    "        b = int(input(\"Please enter the end of the range :  \"))\n",
    "        some_func(a,b)\n",
    "    return range_func()"
   ]
  },
  {
   "cell_type": "code",
   "execution_count": 2,
   "metadata": {},
   "outputs": [
    {
     "name": "stdout",
     "output_type": "stream",
     "text": [
      "Please enter the start of the range: 5\n",
      "Please enter the end of the range :  1000\n",
      "5\n",
      "8\n",
      "13\n",
      "21\n",
      "34\n",
      "55\n",
      "89\n",
      "144\n",
      "233\n",
      "377\n",
      "610\n",
      "987\n"
     ]
    }
   ],
   "source": [
    "@get_input\n",
    "def fibonacci(a,b):\n",
    "            m = list([0,1])\n",
    "            i = 1\n",
    "            while m[i] < b and m[i-1] >= 0:\n",
    "                if i == 1:\n",
    "                       r = m[i-1] + i\n",
    "                else:\n",
    "                       r = m[i] + m[i-1]\n",
    "                m.append(r)\n",
    "                if m[i] >= a:\n",
    "                    print(m[i])\n",
    "                i = i + 1\n",
    "   \n",
    "\n",
    "    "
   ]
  }
 ],
 "metadata": {
  "kernelspec": {
   "display_name": "Python 3",
   "language": "python",
   "name": "python3"
  },
  "language_info": {
   "codemirror_mode": {
    "name": "ipython",
    "version": 3
   },
   "file_extension": ".py",
   "mimetype": "text/x-python",
   "name": "python",
   "nbconvert_exporter": "python",
   "pygments_lexer": "ipython3",
   "version": "3.7.1"
  }
 },
 "nbformat": 4,
 "nbformat_minor": 2
}
