{
 "cells": [
  {
   "cell_type": "markdown",
   "metadata": {},
   "source": [
    "# NAME : CHINMAY HOLKAR\n",
    "# EMAIL : chinmayholkar1998@gmail.com"
   ]
  },
  {
   "cell_type": "code",
   "execution_count": 1,
   "metadata": {},
   "outputs": [
    {
     "name": "stdout",
     "output_type": "stream",
     "text": [
      "Enter your marks our of 100 :78\n",
      "Your grade is:\n",
      "|-----|\n",
      "|  B  |\n",
      "|-----|\n"
     ]
    }
   ],
   "source": [
    "# Assignment No _1  Q1\n",
    "x = int(input(\"Enter your marks our of 100 :\"))\n",
    "print(\"Your grade is:\")\n",
    "if x >= 88 :\n",
    "    print(\"|-----|\\n|  A  |\\n|-----|\")\n",
    "elif 76 <= x < 88 :\n",
    "     print(\"|-----|\\n|  B  |\\n|-----|\")\n",
    "elif 64 <= x < 76 :\n",
    "      print(\"|-----|\\n|  C  |\\n|-----|\")\n",
    "elif 52 <= x < 64 :\n",
    "       print(\"|-----|\\n|  D  |\\n|-----|\")\n",
    "elif 40 <= x < 52 :\n",
    "        print(\"|-----|\\n|  E  |\\n|-----|\")\n",
    "else : \n",
    "    print(\"fail\")"
   ]
  },
  {
   "cell_type": "code",
   "execution_count": 3,
   "metadata": {},
   "outputs": [
    {
     "name": "stdout",
     "output_type": "stream",
     "text": [
      "Please guess  the score of the Indian Cricket Team : 100\n",
      "You don't watch that much :P\n",
      "Computer guess : 166\n",
      "User guess : 100\n"
     ]
    }
   ],
   "source": [
    "# Assignment_No_2 Q2\n",
    "import random\n",
    "a = random.randint(1,250)\n",
    "x = int(input(\"Please guess  the score of the Indian Cricket Team : \"))\n",
    "if x < 1 or x > 250:\n",
    "    print(\"Reduce the expectation for 20-20 Cricket\")\n",
    "else:\n",
    "        if abs(a-x) <= 10:\n",
    "            print(\"Close By, you are True Indian Fan!\") \n",
    "        else:\n",
    "            print(\"You don't watch that much :P\") \n",
    "print(\"Computer guess :\",a)\n",
    "print(\"User guess :\",x) "
   ]
  },
  {
   "cell_type": "code",
   "execution_count": 4,
   "metadata": {},
   "outputs": [
    {
     "name": "stdout",
     "output_type": "stream",
     "text": [
      "I Love FCS\n"
     ]
    }
   ],
   "source": [
    "# Assignment_No_2 Q3\n",
    "file = open(\"FCS.txt\",'w')\n",
    "file.write(\"I Love FCS\")\n",
    "file.close()\n",
    "file = open(\"FCS.txt\",\"r\")\n",
    "text = file.read()\n",
    "print(text)\n",
    "file.close()"
   ]
  },
  {
   "cell_type": "markdown",
   "metadata": {},
   "source": [
    "### SORRY SIR/REVIEWER I WASN'T ABLE TO COMPLETE THE Q4 OF ASSIGNMENT AS I WASN'T ABLE TO UNDERSTAND THE SAME. PLEASE CONSIDER MY REQUEST."
   ]
  },
  {
   "cell_type": "code",
   "execution_count": 5,
   "metadata": {},
   "outputs": [
    {
     "name": "stdout",
     "output_type": "stream",
     "text": [
      "Enter the string containing the command containing\n",
      " L: left 1 distance move \n",
      " R : right 1 distane move \n",
      " U : up 1 distance move \n",
      " D : down 1 distance move without any spaces : lruuudddur\n",
      "LRUUUDDDUR\n",
      "[-1, 0]\n",
      "[0, 0]\n",
      "[0, 1]\n",
      "[0, 2]\n",
      "[0, 3]\n",
      "[0, 2]\n",
      "[0, 1]\n",
      "[0, 0]\n",
      "[0, 1]\n",
      "[1, 1]\n"
     ]
    }
   ],
   "source": [
    "# Assignment_No_4_Q5\n",
    "a = [0,0]\n",
    "command = input(\"Enter the string containing the command containing\\n L: left 1 distance move \\n R : right 1 distane move \\n U : up 1 distance move \\n D : down 1 distance move without any spaces : \")\n",
    "command = command.upper()\n",
    "print(command)\n",
    "l = len(command)\n",
    "i = 0\n",
    "for i in range (0,l):\n",
    "    if command[i] ==\"L\":\n",
    "            a[0] = a[0] - 1\n",
    "            print(a)\n",
    "    elif command[i] == \"R\":\n",
    "            a[0] = a[0] + 1\n",
    "            print(a)\n",
    "    elif command[i] == \"U\" :\n",
    "            a[1] = a[1] + 1\n",
    "            print(a)\n",
    "    elif command[i] == \"D\" :\n",
    "            a[1] = a[1] -1\n",
    "            print(a)\n",
    "    i =+ 1"
   ]
  }
 ],
 "metadata": {
  "kernelspec": {
   "display_name": "Python 3",
   "language": "python",
   "name": "python3"
  },
  "language_info": {
   "codemirror_mode": {
    "name": "ipython",
    "version": 3
   },
   "file_extension": ".py",
   "mimetype": "text/x-python",
   "name": "python",
   "nbconvert_exporter": "python",
   "pygments_lexer": "ipython3",
   "version": "3.7.1"
  }
 },
 "nbformat": 4,
 "nbformat_minor": 2
}
